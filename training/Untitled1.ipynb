{
 "cells": [
  {
   "cell_type": "code",
   "execution_count": 4,
   "metadata": {},
   "outputs": [
    {
     "name": "stdout",
     "output_type": "stream",
     "text": [
      "Channels:  12\n",
      "Channels:  12\n",
      "Channels:  12\n",
      "Channels:  12\n",
      "Loaded checkpoint './../../epoch-12_loss--0.3116' (iteration 466)\n"
     ]
    }
   ],
   "source": [
    "import utils, waveglow_model\n",
    "import DataLoader\n",
    "from waveglow_model import WaveGlowLoss\n",
    "from train_utils import get_test_loss_and_mse\n",
    "\n",
    "wg_model = waveglow_model.WaveGlow(\n",
    "    n_context_channels=96, \n",
    "    n_flows=4, \n",
    "    n_group=12, \n",
    "    n_early_every=99,\n",
    "    n_early_size=99,\n",
    "    n_layers=8,\n",
    "    dilation_list=[1,1,2,2,2,2,4,4],\n",
    "    n_channels=96,\n",
    "    kernel_size=3, use_cuda=False);\n",
    "\n",
    "model, iteration_num = utils.load_checkpoint(\"./../../epoch-12_loss--0.3116\", wg_model)\n",
    "\n",
    "dataset = DataLoader.DataLoader(test_f=\"../wind_power_data/wind_power_test.pickle\", train_f=\"../wind_power_data/wind_power_train.pickle\", rolling=True, small_subset=False, valid_split=.2, use_gpu=False)\n",
    "criterion = WaveGlowLoss()\n",
    "test_context, test_forecast = dataset.test_data()\n",
    "test_loss, test_mse = get_test_loss_and_mse(model, criterion, test_context, test_forecast, False)\n",
    "\n",
    "print(\"Loss and MSE for model %s\"% \"waveglow_ncontextchannels-96_nflows-4_ngroup-12-nearlyevery-99-nearlysize-99-nlayers-8_dilations-1-1-2-2-2-2-4-4_nchannels_96-kernelsize-3-lr-0.00100_seed-2019\")\n",
    "print(test_loss)\n",
    "print(test_mse)\n"
   ]
  },
  {
   "cell_type": "code",
   "execution_count": null,
   "metadata": {},
   "outputs": [
    {
     "name": "stdout",
     "output_type": "stream",
     "text": [
      "./../wind_power_data/wind_power_train.pickle\n",
      "35136\n"
     ]
    }
   ],
   "source": [
    "import utils, waveglow_model\n",
    "import DataLoader\n",
    "from waveglow_model import WaveGlowLoss\n",
    "from train_utils import get_test_loss_and_mse\n",
    "\n",
    "wg_model = waveglow_model.WaveGlow(\n",
    "    n_context_channels=96, \n",
    "    n_flows=4, \n",
    "    n_group=12, \n",
    "    n_early_every=99,\n",
    "    n_early_size=99,\n",
    "    n_layers=8,\n",
    "    dilation_list=[1,1,2,2,2,2,4,4],\n",
    "    n_channels=96,\n",
    "    kernel_size=3, use_cuda=False);\n",
    "\n",
    "model, iteration_num = utils.load_checkpoint(\"./../../epoch-12_loss--0.3116\", wg_model)\n",
    "\n",
    "dataset = DataLoader.DataLoader(test_f=\"../wind_power_data/wind_power_test.pickle\", train_f=\"../wind_power_data/wind_power_train.pickle\", rolling=True, small_subset=False, valid_split=.2, use_gpu=False)\n",
    "criterion = WaveGlowLoss()\n",
    "test_context, test_forecast = dataset.test_data()\n",
    "test_loss, test_mse = get_test_loss_and_mse(model, criterion, test_context, test_forecast, False)\n",
    "\n",
    "print(\"Loss and MSE for model %s\"% \"waveglow_ncontextchannels-96_nflows-4_ngroup-12-nearlyevery-99-nearlysize-99-nlayers-8_dilations-1-1-2-2-2-2-4-4_nchannels_96-kernelsize-3-lr-0.00100_seed-2019\")\n",
    "print(test_loss)\n",
    "print(test_mse)"
   ]
  },
  {
   "cell_type": "code",
   "execution_count": null,
   "metadata": {},
   "outputs": [],
   "source": [
    "print(test_loss)\n",
    "print(test_mse)"
   ]
  }
 ],
 "metadata": {
  "kernelspec": {
   "display_name": "Python 3",
   "language": "python",
   "name": "python3"
  },
  "language_info": {
   "codemirror_mode": {
    "name": "ipython",
    "version": 3
   },
   "file_extension": ".py",
   "mimetype": "text/x-python",
   "name": "python",
   "nbconvert_exporter": "python",
   "pygments_lexer": "ipython3",
   "version": "3.7.0"
  }
 },
 "nbformat": 4,
 "nbformat_minor": 2
}
