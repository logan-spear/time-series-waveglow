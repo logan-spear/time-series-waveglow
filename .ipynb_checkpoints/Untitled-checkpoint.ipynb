{
 "cells": [
  {
   "cell_type": "code",
   "execution_count": 1,
   "metadata": {},
   "outputs": [],
   "source": [
    "import torch\n",
    "from torch.autograd import Variable\n",
    "import torch.nn.functional as F"
   ]
  },
  {
   "cell_type": "code",
   "execution_count": null,
   "metadata": {},
   "outputs": [],
   "source": [
    "class InvertibleConv(torch.nn.Module):\n",
    "    def __init__(self, channels):\n",
    "        super(InvertibleConv, self).__init__()\n",
    "        self.conv = torch.nn.Conv1d(channels, channels, kernzel_size=1, stride=1, padding=0, bias=False)\n",
    "        \n",
    "        W = torch.qr(torch.FloatTensor(channels, channels).normal_())[0]\n",
    "        \n",
    "        if torch.det(W) < 0:\n",
    "            W[:, 0] = -1*W[:,0]\n",
    "        W = W.view(channels, channels, 1)\n",
    "        self.conv.weight.data = W\n",
    "        \n",
    "    def forward(self, z, reverse=False):\n",
    "        batch_size, group_size, n_of_groups = z.size()\n",
    "        \n",
    "        W = self.conv.weight.squeeze()\n",
    "        \n",
    "        if reverse:\n",
    "            if not hasattr(self, 'W_inv'):\n",
    "                W_inv = W.float().inverse()\n",
    "                W_inv = Variable(W_inv[..., None])\n",
    "                self.W_inv = W_inv\n",
    "            z = F.conv1d(z, self.W_inv, bias=None, stride=1, padding=0)\n",
    "            return z\n",
    "        else:\n",
    "            log_det_W = batch_size * n_of_groups * torch.logdet(W)\n",
    "            z = self.conv(z)\n",
    "            return z, log_det_w\n",
    "        "
   ]
  }
 ],
 "metadata": {
  "kernelspec": {
   "display_name": "Python 3",
   "language": "python",
   "name": "python3"
  },
  "language_info": {
   "codemirror_mode": {
    "name": "ipython",
    "version": 3
   },
   "file_extension": ".py",
   "mimetype": "text/x-python",
   "name": "python",
   "nbconvert_exporter": "python",
   "pygments_lexer": "ipython3",
   "version": "3.7.0"
  }
 },
 "nbformat": 4,
 "nbformat_minor": 2
}
