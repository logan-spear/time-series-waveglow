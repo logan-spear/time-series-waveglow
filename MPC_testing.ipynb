{
 "cells": [
  {
   "cell_type": "code",
   "execution_count": 1,
   "metadata": {},
   "outputs": [
    {
     "data": {
      "text/html": [
       "<style>.container { width:95% !important; }</style>"
      ],
      "text/plain": [
       "<IPython.core.display.HTML object>"
      ]
     },
     "metadata": {},
     "output_type": "display_data"
    }
   ],
   "source": [
    "# Make the cells wider in the browser window\n",
    "from IPython.core.display import display, HTML\n",
    "display(HTML(\"<style>.container { width:95% !important; }</style>\"))\n",
    "\n",
    "%matplotlib inline\n",
    "import matplotlib\n",
    "import matplotlib.pyplot as plt\n",
    "import datetime\n",
    "import pandas as pd\n",
    "import numpy as np\n",
    "from numba import jit\n",
    "from time import time\n",
    "\n",
    "import train as train_utils\n",
    "import DataLoader as DL\n",
    "\n",
    "from importlib import reload\n",
    "import torch\n",
    "from torch.autograd import Variable\n",
    "import torch.nn.functional as F\n",
    "import waveglow_model as model\n",
    "\n",
    "matplotlib.rc(\"figure\", figsize=(16,3))\n",
    "matplotlib.rc(\"lines\", linewidth=2)\n",
    "# matplotlib.rc(\"font\", serif='Computer Modern Roman')\n",
    "# matplotlib.rc(\"title\", fontsize=18)\n",
    "\n",
    "# # for auto-reloading extenrnal modules\n",
    "# # see http://stackoverflow.com/questions/1907993/autoreload-of-modules-in-ipython\n",
    "# %load_ext autoreload\n",
    "# %autoreload 2"
   ]
  },
  {
   "cell_type": "markdown",
   "metadata": {},
   "source": [
    "This notebook is originally copied from WindForecast notebook. In it, we fit a Gaussian Process to the wind data to sample from to get scenarios for MPC. First, we fit a single GP directly to the data. Then, we'll match the original paper and fit a GP to the seasonal baseline and another GP to the residual."
   ]
  },
  {
   "cell_type": "markdown",
   "metadata": {},
   "source": [
    "# Run setup"
   ]
  },
  {
   "cell_type": "code",
   "execution_count": 2,
   "metadata": {},
   "outputs": [],
   "source": [
    "# Run a setup script which defines some functions and constants for the MPC problems and what not\n",
    "from mpc_util_functions import *"
   ]
  },
  {
   "cell_type": "markdown",
   "metadata": {},
   "source": [
    "***"
   ]
  },
  {
   "cell_type": "code",
   "execution_count": 10,
   "metadata": {},
   "outputs": [
    {
     "name": "stdout",
     "output_type": "stream",
     "text": [
      "Channels:  96\n",
      "Channels:  96\n",
      "Channels:  96\n",
      "Channels:  96\n",
      "Channels:  96\n",
      "Channels:  96\n",
      "Channels:  96\n",
      "Channels:  96\n",
      "Channels:  96\n",
      "Channels:  96\n",
      "Channels:  96\n",
      "Channels:  96\n",
      "Channels:  96\n",
      "Channels:  96\n",
      "Channels:  96\n",
      "Channels:  96\n",
      "Loaded checkpoint 'CHECKPOINTS_FROM_GCLOUD/waveglow_ncontextchannels-96_nflows-16_ngroup-96-nearlyevery-99-nearlysize-99-nlayers-4_dilations-1-1-2-2_nchannels_96-kernelsize-9-lr-0.00100_seed-2019/epoch-25_loss-0.0571' (iteration 466)\n"
     ]
    }
   ],
   "source": [
    "# reload(train_utils)\n",
    "# wg_model = model.WaveGlow(\n",
    "#     n_context_channels=96, \n",
    "#     n_flows=8, \n",
    "#     n_group=48, \n",
    "#     n_early_every=99,\n",
    "#     n_early_size=99,\n",
    "#     n_layers=8,\n",
    "#     dilation_list=[1,1,2,2,2,2,4,4],\n",
    "#     n_channels=96,\n",
    "#     kernel_size=3, use_cuda=False);\n",
    "\n",
    "# wg_model, iteration_num = train_utils.load_checkpoint(\"CHECKPOINTS_FROM_GCLOUD/nctx-96_nflows-8_ngroup-48_nee-99_nes-99_nlayers-8_dilation-11222244_nchannels-96_kernel-3_lr-0.001/epoch-14_loss--0.0396\", wg_model, None)\n",
    "\n",
    "\n",
    "# This model got 1027 as the cost of gas power when still using the huge battery\n",
    "reload(train_utils)\n",
    "net = model.WaveGlow(\n",
    "    n_context_channels=96, \n",
    "    n_flows=16, \n",
    "    n_group=96, \n",
    "    n_early_every=99,\n",
    "    n_early_size=99,\n",
    "    n_layers=4,\n",
    "    dilation_list=[1,1,2,2],\n",
    "    n_channels=96,\n",
    "    kernel_size=9, use_cuda=False);\n",
    "net, iteration_num = train_utils.load_checkpoint(\"CHECKPOINTS_FROM_GCLOUD/waveglow_ncontextchannels-96_nflows-16_ngroup-96-nearlyevery-99-nearlysize-99-nlayers-4_dilations-1-1-2-2_nchannels_96-kernelsize-9-lr-0.00100_seed-2019/epoch-25_loss-0.0571\", net, None)"
   ]
  },
  {
   "cell_type": "markdown",
   "metadata": {},
   "source": [
    "# Sampling using WaveGlow"
   ]
  },
  {
   "cell_type": "code",
   "execution_count": 11,
   "metadata": {},
   "outputs": [],
   "source": [
    "# def run_net_mpc(net, K):\n",
    "#     '''\n",
    "#     Run MPC using scenarios generated from the given WaveGlow model in net\n",
    "#     K is the number of scenarios to use\n",
    "#     '''\n",
    "    \n",
    "#     T_MPC = intervals_per_day\n",
    "\n",
    "#     energy_stored = np.empty(T)\n",
    "#     target_output_MPC, wind_power_available_MPC, initial_storage_MPC, final_storage_MPC, final_energy_price, MPC_network = \\\n",
    "#         make_network(T_MPC, K)\n",
    "\n",
    "#     initial_storage_MPC.value = np.matrix(initial_storage)\n",
    "#     final_storage_MPC.value = np.matrix(initial_storage)\n",
    "#     final_energy_price.value = np.matrix(MPC_final_energy_price)\n",
    "\n",
    "\n",
    "#     def make_forecasts(t):\n",
    "#         '''\n",
    "#         Populates the cvx parameters target_output.MPC and wind_power_available_MPC\n",
    "#         target_output_MPC is always the same\n",
    "#         wind_power_available_MPC.value is a matrix of shape (T,K), where T is the length of one forecast (96)\n",
    "#         and K is the number of scenarios (specified outside of this function). Each column represents\n",
    "#         one forecast scenario. The first scalar element of every forecast is p_wind[sim_start_time+t]\n",
    "#         '''\n",
    "#         target_output_MPC.value = np.tile(target_output[t:t+T_MPC], (K,1)).T\n",
    "\n",
    "#         #### Logan's code ####\n",
    "#         # First, create the context torch tensors to be used as context for the model\n",
    "#         context = p_wind[(sim_start_time+t+1-T_MPC):(sim_start_time+t+1)].values\n",
    "#         context = np.reshape(context, (1, -1, 1))\n",
    "#         context = np.repeat(context, K, axis=0)\n",
    "#         context = torch.FloatTensor(context)\n",
    "\n",
    "#         # Now, generate forecasts using this context:\n",
    "#         scenarios = net.generate(context).numpy()\n",
    "\n",
    "#         # Take only the first 95 entries, make the first entry p_wind[sim_start_time+t] for all\n",
    "#         scenarios = np.hstack((\n",
    "#             np.matrix([p_wind[sim_start_time+t]]*K).T,\n",
    "#             scenarios[:, :-1]\n",
    "#         ))\n",
    "\n",
    "#         # Max and min out the wind power\n",
    "#         scenarios = np.maximum(wind_power_min, scenarios)\n",
    "#         scenarios = np.minimum(wind_power_max, scenarios)\n",
    "#         wind_power_available_MPC.value = scenarios.T\n",
    "\n",
    "\n",
    "#     def implement(t):\n",
    "#         energy_stored[t] = MPC_network.devices[2].energy.value[0,0]\n",
    "#         initial_storage_MPC.value = np.matrix(energy_stored[t])\n",
    "\n",
    "        \n",
    "#     print(\"Results for K = \", K)\n",
    "#     cost_MPC, MPC_results = \\\n",
    "#         run_mpc(MPC_network, T, make_forecasts, implement, verbose = False, solver='ECOS')\n",
    "\n",
    "#     wind_gen, gas_gen, storage = MPC_network.devices[0:3]\n",
    "\n",
    "#     print_and_plot_stats(wind_power_avail =  p_wind[sim_start_time:sim_end_time], \n",
    "#                          wind_power_used = -MPC_results.power[(wind_gen, 0)].flatten(), \n",
    "#                          gas_power = -MPC_results.power[(gas_gen,0)].flatten(), \n",
    "#                          output =  target_output[:T],\n",
    "#                          cost = cost_MPC)\n"
   ]
  },
  {
   "cell_type": "code",
   "execution_count": 12,
   "metadata": {},
   "outputs": [
    {
     "name": "stderr",
     "output_type": "stream",
     "text": [
      "\r",
      "  0%|          | 0/2976 [00:00<?, ?it/s]"
     ]
    },
    {
     "name": "stdout",
     "output_type": "stream",
     "text": [
      "Results for K =  20\n"
     ]
    },
    {
     "name": "stderr",
     "output_type": "stream",
     "text": [
      "100%|██████████| 2976/2976 [1:08:35<00:00,  1.38s/it]"
     ]
    },
    {
     "name": "stdout",
     "output_type": "stream",
     "text": [
      "(Values are daily averages.)\n",
      "\n",
      "Energy sold:\t\t192.00 MWh\n",
      "Wind energy avail.:\t202.36 MWh\n",
      "Gas gener. output:\t23.90 MWh\n",
      "Wind energy used:\t167.84 MWh\n",
      "Wind energy lost:\t34.52 MWh\n",
      "\n",
      "Energy sold (at $80/MWh):    $15360.00\n",
      "Cost of gas generated energy:  $1026.91\n"
     ]
    },
    {
     "name": "stderr",
     "output_type": "stream",
     "text": [
      "\n"
     ]
    }
   ],
   "source": [
    "run_net_mpc(wg_model, 20)"
   ]
  },
  {
   "cell_type": "code",
   "execution_count": null,
   "metadata": {},
   "outputs": [],
   "source": []
  },
  {
   "cell_type": "code",
   "execution_count": null,
   "metadata": {},
   "outputs": [],
   "source": []
  },
  {
   "cell_type": "code",
   "execution_count": null,
   "metadata": {},
   "outputs": [],
   "source": []
  },
  {
   "cell_type": "code",
   "execution_count": null,
   "metadata": {},
   "outputs": [],
   "source": []
  },
  {
   "cell_type": "code",
   "execution_count": null,
   "metadata": {},
   "outputs": [],
   "source": []
  },
  {
   "cell_type": "markdown",
   "metadata": {},
   "source": [
    "<a id=\"pres_mpc\"></a>\n",
    "# Presceint MPC"
   ]
  },
  {
   "cell_type": "code",
   "execution_count": 5,
   "metadata": {},
   "outputs": [
    {
     "name": "stderr",
     "output_type": "stream",
     "text": [
      "100%|██████████| 2976/2976 [01:54<00:00, 25.97it/s]"
     ]
    },
    {
     "name": "stdout",
     "output_type": "stream",
     "text": [
      "(Values are daily averages.)\n",
      "\n",
      "Energy sold:\t\t192.00 MWh\n",
      "Wind energy avail.:\t202.36 MWh\n",
      "Gas gener. output:\t25.04 MWh\n",
      "Wind energy used:\t167.81 MWh\n",
      "Wind energy lost:\t34.55 MWh\n",
      "\n",
      "Energy sold (at $80/MWh):    $15360.00\n",
      "Cost of gas generated energy:  $1044.48\n"
     ]
    },
    {
     "name": "stderr",
     "output_type": "stream",
     "text": [
      "\n"
     ]
    }
   ],
   "source": [
    "T_MPC = intervals_per_day\n",
    "\n",
    "energy_stored = np.empty(T)\n",
    "\n",
    "target_output_MPC, wind_power_available_MPC, \\\n",
    "initial_storage_MPC, final_storage_MPC, \\\n",
    "final_energy_price, MPC_network = \\\n",
    "    make_network(T_MPC, 1)\n",
    "    \n",
    "initial_storage_MPC.value = np.matrix(initial_storage)\n",
    "final_storage_MPC.value = np.matrix(initial_storage)\n",
    "final_energy_price.value = np.matrix(MPC_final_energy_price)\n",
    "\n",
    "def make_forecasts(t):\n",
    "    target_output_MPC.value = np.matrix(target_output[t:t+T_MPC]).T\n",
    "    wind_power_available_MPC.value = np.matrix(p_wind[sim_start_time+t:sim_start_time+t+T_MPC]).T\n",
    "    \n",
    "def implement(t):\n",
    "    energy_stored[t] = MPC_network.devices[2].energy.value[0]\n",
    "    initial_storage_MPC.value = np.matrix(energy_stored[t])\n",
    "    #final_storage_MPC.value = np.matrix(energy_stored[t]) # change this to change MPC behavior\n",
    "    \n",
    "cost_prescient_MPC, prescient_MPC_results = \\\n",
    "    run_mpc(MPC_network, T, make_forecasts, implement, verbose = False, solver='ECOS')\n",
    "\n",
    "wind_gen, gas_gen, storage = MPC_network.devices[0:3]\n",
    "\n",
    "print_and_plot_stats(wind_power_avail =  p_wind[sim_start_time:sim_end_time], \n",
    "                     wind_power_used = -prescient_MPC_results.power[(wind_gen, 0)].flatten(), \n",
    "                     gas_power = -prescient_MPC_results.power[(gas_gen,0)].flatten(), \n",
    "                     output =  target_output[:T],\n",
    "                     cost = cost_prescient_MPC)"
   ]
  },
  {
   "cell_type": "markdown",
   "metadata": {},
   "source": [
    "<a id=\"mpc_no_scn\"></a>\n",
    "# MPC no scenarios (vanilla forecaster from paper) "
   ]
  },
  {
   "cell_type": "code",
   "execution_count": 6,
   "metadata": {},
   "outputs": [
    {
     "name": "stderr",
     "output_type": "stream",
     "text": [
      "100%|██████████| 2976/2976 [02:13<00:00, 22.33it/s]"
     ]
    },
    {
     "name": "stdout",
     "output_type": "stream",
     "text": [
      "(Values are daily averages.)\n",
      "\n",
      "Energy sold:\t\t192.00 MWh\n",
      "Wind energy avail.:\t202.36 MWh\n",
      "Gas gener. output:\t40.53 MWh\n",
      "Wind energy used:\t150.96 MWh\n",
      "Wind energy lost:\t51.40 MWh\n",
      "\n",
      "Energy sold (at $80/MWh):    $15360.00\n",
      "Cost of gas generated energy:  $1703.51\n"
     ]
    },
    {
     "name": "stderr",
     "output_type": "stream",
     "text": [
      "\n"
     ]
    }
   ],
   "source": [
    "T_MPC = intervals_per_day\n",
    "\n",
    "energy_stored = np.empty(T)\n",
    "\n",
    "target_output_MPC, wind_power_available_MPC, initial_storage_MPC, final_storage_MPC, final_energy_price, MPC_network = \\\n",
    "    make_network(T_MPC, 1)\n",
    "    \n",
    "initial_storage_MPC.value = np.matrix(initial_storage)\n",
    "final_storage_MPC.value = np.matrix(initial_storage)\n",
    "final_energy_price.value = np.matrix(MPC_final_energy_price)\n",
    "\n",
    "def predict_wind(p_wind, baseline, autoreg_residual_params, t, M, L, K = 1):\n",
    "    past = p_wind[t-M:t]\n",
    "    past_baseline = baseline[t-M:t]\n",
    "    fut_baseline = baseline[t:t+L]\n",
    "    pred = list(reversed(past-past_baseline)) @ autoreg_residual_params\n",
    "    pred = pd.Series(pred, index=fut_baseline.index)\n",
    "    pred += fut_baseline\n",
    "    pred = np.maximum(wind_power_min, pred)\n",
    "    pred = np.minimum(wind_power_max, pred)\n",
    "    return pred\n",
    "\n",
    "def make_forecasts(t):\n",
    "    target_output_MPC.value = np.matrix(target_output[t:t+T_MPC]).T\n",
    "    val_to_assign = np.matrix(np.concatenate([\n",
    "        [p_wind[sim_start_time+t]],\n",
    "        predict_wind(p_wind, baseline, autoreg_residual_params, sim_start_time+t+1, T_MPC, T_MPC)[:-1]])).T\n",
    "        \n",
    "#     print(type(val_to_assign))\n",
    "#     print(val_to_assign.shape)\n",
    "    wind_power_available_MPC.value = val_to_assign\n",
    "        \n",
    "def implement(t):\n",
    "    energy_stored[t] = MPC_network.devices[2].energy.value[0]\n",
    "    initial_storage_MPC.value = np.matrix(energy_stored[t])\n",
    "    #final_storage_MPC.value = np.matrix(energy_stored[t]) # change this to change MPC behavior\n",
    "    \n",
    "cost_AR_MPC, AR_MPC_results = \\\n",
    "    run_mpc(MPC_network, T, make_forecasts, implement, verbose = False, solver='ECOS')\n",
    "\n",
    "wind_gen, gas_gen, storage = MPC_network.devices[0:3]\n",
    "\n",
    "print_and_plot_stats(wind_power_avail =  p_wind[sim_start_time:sim_end_time], \n",
    "                     wind_power_used = -AR_MPC_results.power[(wind_gen, 0)].flatten(), \n",
    "                     gas_power = -AR_MPC_results.power[(gas_gen,0)].flatten(), \n",
    "                     output =  target_output[:T],\n",
    "                     cost = cost_AR_MPC,\n",
    "                     plot_stuff = True)"
   ]
  },
  {
   "cell_type": "markdown",
   "metadata": {},
   "source": [
    "<a id=\"rmpc\"></a>\n",
    "# Robust MPC (from paper) "
   ]
  },
  {
   "cell_type": "code",
   "execution_count": 3,
   "metadata": {},
   "outputs": [],
   "source": [
    "T_MPC = intervals_per_day\n",
    "K = 20 # Number of scenarios\n",
    "\n",
    "energy_stored = np.empty(T)\n",
    "\n",
    "target_output_MPC, wind_power_available_MPC, initial_storage_MPC, final_storage_MPC, final_energy_price, MPC_network = \\\n",
    "    make_network(T_MPC, K)\n",
    "    \n",
    "initial_storage_MPC.value = np.matrix(initial_storage)\n",
    "final_storage_MPC.value = np.matrix(initial_storage)\n",
    "final_energy_price.value = np.matrix(MPC_final_energy_price)\n",
    "\n",
    "\n",
    "def make_forecasts(t):\n",
    "    target_output_MPC.value = np.tile(target_output[t:t+T_MPC], (K,1)).T\n",
    "#     wind_power_available_MPC.value = np.tile(np.concatenate([\n",
    "#         [p_wind[sim_start_time+t]],\n",
    "#         predict_wind(p_wind, baseline, autoreg_residual_params, sim_start_time+t+1, T_MPC, T_MPC)[:-1]]),\n",
    "#                                              (K,1)).T\n",
    "    # draw scenarios\n",
    "    scenarios = np.hstack([np.matrix([p_wind[sim_start_time+t]]*K).T,\n",
    "                           np.random.multivariate_normal(predict_wind(p_wind, baseline, \n",
    "                            autoreg_residual_params, sim_start_time+t+1, T_MPC, T_MPC), \n",
    "                             sigma_residual_errors, K)[:,:-1]])\n",
    "    scenarios = np.maximum(wind_power_min, scenarios)\n",
    "    scenarios = np.minimum(wind_power_max, scenarios)\n",
    "    wind_power_available_MPC.value = scenarios.T\n",
    "    \n",
    "        \n",
    "def implement(t):\n",
    "    energy_stored[t] = MPC_network.devices[2].energy.value[0,0]\n",
    "    initial_storage_MPC.value = np.matrix(energy_stored[t])\n",
    "    "
   ]
  },
  {
   "cell_type": "code",
   "execution_count": 21,
   "metadata": {},
   "outputs": [
    {
     "data": {
      "text/plain": [
       "(1, 20)"
      ]
     },
     "execution_count": 21,
     "metadata": {},
     "output_type": "execute_result"
    }
   ],
   "source": [
    "'''\n",
    "scenarios: \n",
    "first row(?) is one scalar value of available wind power t steps from the start of simulation, repeated K times (K row vector)\n",
    "for second part, sample from a normal distribution:\n",
    "    - mean is the predicted wind\n",
    "    - covariance is the learned covariance matrix\n",
    "    - take only the first 95 values, since we are using the 1st value as from p_wind\n",
    "    \n",
    "Thus, each column in scenarios is T long, and there are K columns, one for each scenario\n",
    "\n",
    "\n",
    "\n",
    "\n",
    "\n",
    "'''\n",
    "\n"
   ]
  },
  {
   "cell_type": "code",
   "execution_count": 13,
   "metadata": {},
   "outputs": [
    {
     "name": "stderr",
     "output_type": "stream",
     "text": [
      "100%|██████████| 2976/2976 [27:57<00:00,  1.87it/s]   \n"
     ]
    },
    {
     "name": "stdout",
     "output_type": "stream",
     "text": [
      "(Values are daily averages.)\n",
      "\n",
      "Energy sold:\t\t192.00 MWh\n",
      "Wind energy avail.:\t202.36 MWh\n",
      "Gas gener. output:\t25.07 MWh\n",
      "Wind energy used:\t166.81 MWh\n",
      "Wind energy lost:\t35.54 MWh\n",
      "\n",
      "Energy sold (at $80/MWh):    $15360.00\n",
      "Cost of gas generated energy:  $1072.10\n"
     ]
    },
    {
     "data": {
      "image/png": "[encoded data removed]",
      "text/plain": [
       "<Figure size 648x252 with 1 Axes>"
      ]
     },
     "metadata": {
      "needs_background": "light"
     },
     "output_type": "display_data"
    }
   ],
   "source": [
    "# Results done with K=20\n",
    "\n",
    "cost_robust_MPC, MPC_robust_results = \\\n",
    "    run_mpc(MPC_network, T, make_forecasts, implement, verbose = False, solver='ECOS')\n",
    "\n",
    "wind_gen, gas_gen, storage = MPC_network.devices[0:3]\n",
    "\n",
    "print_and_plot_stats(wind_power_avail =  p_wind[sim_start_time:sim_end_time], \n",
    "                     wind_power_used = -MPC_robust_results.power[(wind_gen, 0)].flatten(), \n",
    "                     gas_power = -MPC_robust_results.power[(gas_gen,0)].flatten(), \n",
    "                     output =  target_output[:T],\n",
    "                     cost = cost_robust_MPC,\n",
    "                     plot_stuff = True)"
   ]
  },
  {
   "cell_type": "markdown",
   "metadata": {},
   "source": [
    "***"
   ]
  },
  {
   "cell_type": "code",
   "execution_count": null,
   "metadata": {},
   "outputs": [],
   "source": []
  },
  {
   "cell_type": "code",
   "execution_count": null,
   "metadata": {},
   "outputs": [],
   "source": []
  }
 ],
 "metadata": {
  "kernelspec": {
   "display_name": "Python 3",
   "language": "python",
   "name": "python3"
  },
  "language_info": {
   "codemirror_mode": {
    "name": "ipython",
    "version": 3
   },
   "file_extension": ".py",
   "mimetype": "text/x-python",
   "name": "python",
   "nbconvert_exporter": "python",
   "pygments_lexer": "ipython3",
   "version": "3.7.3"
  }
 },
 "nbformat": 4,
 "nbformat_minor": 2
}
