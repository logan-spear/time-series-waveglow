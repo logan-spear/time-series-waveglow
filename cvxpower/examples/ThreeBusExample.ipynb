{
 "cells": [
  {
   "cell_type": "code",
   "execution_count": 1,
   "metadata": {},
   "outputs": [],
   "source": [
    "import os\n",
    "import sys\n",
    "sys.path.insert(0, os.path.abspath('..'))\n",
    "from cvxpower import *\n",
    "\n",
    "%matplotlib inline\n",
    "import matplotlib.pyplot as plt\n",
    "import numpy as np\n",
    "#from config import *"
   ]
  },
  {
   "cell_type": "code",
   "execution_count": 2,
   "metadata": {},
   "outputs": [
    {
     "name": "stdout",
     "output_type": "stream",
     "text": [
      "Status: optimal\n",
      "Terminal                  Power\n",
      "--------                  -----\n",
      "load1[0]                  50.00\n",
      "load2[0]                 100.00\n",
      "gen1[0]                  -90.00\n",
      "gen2[0]                  -60.00\n",
      "line1[0]                  50.00\n",
      "line1[1]                 -50.00\n",
      "line2[0]                 -10.00\n",
      "line2[1]                  10.00\n",
      "line3[0]                 -50.00\n",
      "line3[1]                  50.00\n",
      "\n",
      "Net                       Price\n",
      "---                       -----\n",
      "net1                    33.6000\n",
      "net2                   199.5965\n",
      "net3                    24.0012\n",
      "\n",
      "Device                  Payment\n",
      "------                  -------\n",
      "load1                   1680.00\n",
      "load2                  19959.65\n",
      "gen1                   -3024.00\n",
      "gen2                   -1440.07\n",
      "line1                  -8299.83\n",
      "line2                    -95.99\n",
      "line3                  -8779.76\n",
      "\n",
      "Power and price are averages over the time horizon. Payment is total.\n",
      "\n"
     ]
    }
   ],
   "source": [
    "load1 = FixedLoad(power=50, name=\"load1\")\n",
    "load2 = FixedLoad(power=100, name=\"load2\")\n",
    "\n",
    "gen1 = Generator(power_max=1000, alpha=0.02, beta=30, name=\"gen1\")\n",
    "gen2 = Generator(power_max=100, alpha=0.2, beta=0, name=\"gen2\")\n",
    "\n",
    "line1 = TransmissionLine(power_max=50, name='line1')\n",
    "line2 = TransmissionLine(power_max=10, name='line2')\n",
    "line3 = TransmissionLine(power_max=50, name='line3')\n",
    "\n",
    "net1 = Net([load1.terminals[0], gen1.terminals[0], \n",
    "            line1.terminals[0], line2.terminals[0]], name = 'net1')\n",
    "net2 = Net([load2.terminals[0], line1.terminals[1], \n",
    "            line3.terminals[0]], name = 'net2')\n",
    "net3 = Net([gen2.terminals[0], line2.terminals[1], \n",
    "            line3.terminals[1]], name = 'net3')\n",
    "network = Group([load1, load2, gen1, gen2,\n",
    "    line1, line2, line3],\n",
    "    [net1, net2, net3])\n",
    "\n",
    "network.init_problem()\n",
    "network.optimize(solver='ECOS')\n",
    "print(network.results.summary())"
   ]
  },
  {
   "cell_type": "code",
   "execution_count": 5,
   "metadata": {},
   "outputs": [
    {
     "data": {
      "text/plain": [
       "['__add__',\n",
       " '__class__',\n",
       " '__delattr__',\n",
       " '__dict__',\n",
       " '__dir__',\n",
       " '__doc__',\n",
       " '__eq__',\n",
       " '__format__',\n",
       " '__ge__',\n",
       " '__getattribute__',\n",
       " '__gt__',\n",
       " '__hash__',\n",
       " '__init__',\n",
       " '__init_subclass__',\n",
       " '__le__',\n",
       " '__lt__',\n",
       " '__module__',\n",
       " '__ne__',\n",
       " '__new__',\n",
       " '__radd__',\n",
       " '__reduce__',\n",
       " '__reduce_ex__',\n",
       " '__repr__',\n",
       " '__setattr__',\n",
       " '__sizeof__',\n",
       " '__str__',\n",
       " '__subclasshook__',\n",
       " '__weakref__',\n",
       " 'payments',\n",
       " 'plot',\n",
       " 'power',\n",
       " 'price',\n",
       " 'status',\n",
       " 'summary']"
      ]
     },
     "execution_count": 5,
     "metadata": {},
     "output_type": "execute_result"
    }
   ],
   "source": [
    "flows = pd.Series()\n",
    "dir(network.results)"
   ]
  },
  {
   "cell_type": "code",
   "execution_count": 64,
   "metadata": {},
   "outputs": [
    {
     "data": {
      "text/plain": [
       "{<cvxpower.network.Net at 0xb1dadddd8>: array([[24.00116919]]),\n",
       " <cvxpower.network.Net at 0xb1dadde48>: array([[33.59995155]]),\n",
       " <cvxpower.network.Net at 0xb1dadde80>: array([[199.59646122]])}"
      ]
     },
     "execution_count": 64,
     "metadata": {},
     "output_type": "execute_result"
    }
   ],
   "source": [
    "network.results.price"
   ]
  },
  {
   "cell_type": "code",
   "execution_count": 50,
   "metadata": {},
   "outputs": [
    {
     "name": "stdout",
     "output_type": "stream",
     "text": [
      "\\begin{tabular}{lll}\n",
      "\\toprule\n",
      "{} & terminal 1 & terminal 2 \\\\\n",
      "\\midrule\n",
      "load1 &       50MW &          - \\\\\n",
      "load2 &      100MW &          - \\\\\n",
      "gen1  &      -90MW &          - \\\\\n",
      "gen2  &      -60MW &          - \\\\\n",
      "line1 &       50MW &      -50MW \\\\\n",
      "line2 &      -10MW &       10MW \\\\\n",
      "line3 &      -50MW &       50MW \\\\\n",
      "\\bottomrule\n",
      "\\end{tabular}\n",
      "\n"
     ]
    }
   ],
   "source": [
    "import pandas as pd\n",
    "flows = pd.DataFrame(columns=['terminal 1', 'terminal 2'])\n",
    "for (device, terminal) in network.results.power.keys():\n",
    "    flows.loc[device.name, 'terminal %d' % (terminal +1)] = network.results.power[(device, terminal)][0][0]\n",
    "    \n",
    "print(flows.to_latex(na_rep = '-', float_format=lambda x: '%.0fMW' % x))"
   ]
  },
  {
   "cell_type": "code",
   "execution_count": null,
   "metadata": {},
   "outputs": [],
   "source": [
    "import pandas as pd\n",
    "prices = pd.DataFrame(columns=['price'])\n",
    "for (device, terminal) in network.results.power.keys():\n",
    "    flows.loc[device.name, 'terminal %d' % (terminal +1)] = network.results.power[(device, terminal)][0][0]\n",
    "    \n",
    "print(flows.to_latex(na_rep = '-', float_format=lambda x: '%.0fMW' % x))"
   ]
  },
  {
   "cell_type": "code",
   "execution_count": 63,
   "metadata": {},
   "outputs": [
    {
     "name": "stdout",
     "output_type": "stream",
     "text": [
      "\\begin{tabular}{lllr}\n",
      "\\toprule\n",
      "{} & terminal 1 & terminal 2 &  total \\\\\n",
      "\\midrule\n",
      "load1 &      \\$1680 &          - &  \\$1680 \\\\\n",
      "load2 &     \\$19960 &          - & \\$19960 \\\\\n",
      "gen1  &     -\\$3024 &          - & -\\$3024 \\\\\n",
      "gen2  &     -\\$1440 &          - & -\\$1440 \\\\\n",
      "line1 &      \\$1680 &     -\\$9980 & -\\$8300 \\\\\n",
      "line2 &      -\\$336 &       \\$240 &   -\\$96 \\\\\n",
      "line3 &     -\\$9980 &      \\$1200 & -\\$8780 \\\\\n",
      "\\bottomrule\n",
      "\\end{tabular}\n",
      "\n"
     ]
    }
   ],
   "source": [
    "payments = pd.DataFrame(columns=['terminal 1', 'terminal 2', 'total'])\n",
    "for (device, terminal) in network.results.payments.keys():\n",
    "    payments.loc[device.name, 'terminal %d' % (terminal +1)] = network.results.payments[(device, terminal)][0][0]\n",
    "\n",
    "payments['total'] = payments.iloc[:,:2].sum(1)\n",
    "print(payments.to_latex(na_rep = '-', float_format=lambda x: ('-' if np.sign(x) < 0 else '') + '$%.0f' % np.abs(x)))"
   ]
  },
  {
   "cell_type": "code",
   "execution_count": 3,
   "metadata": {},
   "outputs": [
    {
     "data": {
      "image/png": "[encoded data removed]",
      "text/plain": [
       "<matplotlib.figure.Figure at 0xb1dadd5f8>"
      ]
     },
     "metadata": {},
     "output_type": "display_data"
    }
   ],
   "source": [
    "alpha1, beta1, pmax1 = 0.02, 30, 1000\n",
    "alpha2, beta2, pmax2 = 0.2, 0, 100\n",
    "\n",
    "#plt.figure(figsize=FIGREGULAR)\n",
    "xs = np.linspace(0.001,pmax1)\n",
    "plt.plot(xs, (alpha1*xs**2 + beta1*xs)/xs, label=r'$f_{\\rm gen1}$')\n",
    "xs = np.linspace(0.001,pmax2)\n",
    "plt.plot(xs, (alpha2*xs**2 + beta2*xs)/xs, label=r'$f_{\\rm gen2}$')\n",
    "plt.legend()\n",
    "plt.xlabel(r'power produced (MW)')\n",
    "plt.ylabel(r'Operating cost ($ / MWh)')\n",
    "#plt.xlim([0, 1000])\n",
    "#plt.ylim([0, max(pmax1, pmax2)])\n",
    "plt.savefig(\"three_bus_gen_cost.pdf\")"
   ]
  },
  {
   "cell_type": "code",
   "execution_count": 24,
   "metadata": {},
   "outputs": [],
   "source": [
    "# load1 = FixedLoad(power=50, name=\"load1\")\n",
    "# load2 = FixedLoad(power=100, name=\"load2\")\n",
    "\n",
    "# gen1 = Generator(power_max=1000,\n",
    "#   alpha=0.01, beta=100, name=\"gen1\")\n",
    "# gen2 = Generator(power_max=100, alpha=0.1,\n",
    "#   beta=0.1, name=\"gen2\")\n",
    "\n",
    "# line1 = TransmissionLine(power_max=50, name = 'line1', alpha=0.001)\n",
    "# #line1 = TransmissionLine(name = 'line1', alpha=0.001)\n",
    "# line2 = TransmissionLine(power_max=10, name = 'line2')\n",
    "# line3 = TransmissionLine(power_max=50, name = 'line3')\n",
    "\n",
    "# net1 = Net([load1.terminals[0],\n",
    "#     gen1.terminals[0], line1.terminals[0],\n",
    "#     line2.terminals[0]], name = 'net1')\n",
    "# net2 = Net([load2.terminals[0], line1.terminals[1], \n",
    "#     line3.terminals[0]], name = 'net2')\n",
    "# net3 = Net([gen2.terminals[0], line2.terminals[1], \n",
    "#     line3.terminals[1]], name = 'net3')\n",
    "# network = Group([load1, load2, gen1, gen2,\n",
    "#     line1, line2, line3],\n",
    "#     [net1, net2, net3])\n",
    "\n",
    "# network.init_problem()\n",
    "# network.optimize()\n",
    "# print(network.results.summary())"
   ]
  },
  {
   "cell_type": "code",
   "execution_count": null,
   "metadata": {},
   "outputs": [],
   "source": []
  }
 ],
 "metadata": {
  "kernelspec": {
   "display_name": "Python 3",
   "language": "python",
   "name": "python3"
  },
  "language_info": {
   "codemirror_mode": {
    "name": "ipython",
    "version": 3
   },
   "file_extension": ".py",
   "mimetype": "text/x-python",
   "name": "python",
   "nbconvert_exporter": "python",
   "pygments_lexer": "ipython3",
   "version": "3.6.4"
  }
 },
 "nbformat": 4,
 "nbformat_minor": 2
}
