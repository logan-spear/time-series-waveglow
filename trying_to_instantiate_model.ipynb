{
 "cells": [
  {
   "cell_type": "code",
   "execution_count": 38,
   "metadata": {},
   "outputs": [
    {
     "data": {
      "text/html": [
       "<style>.container { width:95% !important; }</style>"
      ],
      "text/plain": [
       "<IPython.core.display.HTML object>"
      ]
     },
     "metadata": {},
     "output_type": "display_data"
    }
   ],
   "source": [
    "# Make the cells wider in the browser window\n",
    "from IPython.core.display import display, HTML\n",
    "display(HTML(\"<style>.container { width:95% !important; }</style>\"))\n",
    "\n",
    "from importlib import reload\n",
    "import torch\n",
    "from torch.autograd import Variable\n",
    "import torch.nn.functional as F\n",
    "import waveglow_model as model\n",
    "import pandas as pd\n",
    "import numpy as np"
   ]
  },
  {
   "cell_type": "code",
   "execution_count": 12,
   "metadata": {},
   "outputs": [],
   "source": [
    "# Import the data\n",
    "trainset = pd.read_pickle(\"wind_power_data/wind_power_train.pickle\").values\n",
    "testset = pd.read_pickle(\"wind_power_data/wind_power_test.pickle\").values"
   ]
  },
  {
   "cell_type": "code",
   "execution_count": 191,
   "metadata": {},
   "outputs": [
    {
     "name": "stdout",
     "output_type": "stream",
     "text": [
      "Channels:  24\n",
      "Channels:  24\n",
      "Channels:  24\n",
      "Channels:  16\n",
      "Channels:  16\n",
      "Channels:  16\n"
     ]
    }
   ],
   "source": [
    "# Try instantiating a network\n",
    "reload(model)\n",
    "net = model.WaveGlow(\n",
    "    n_context_channels=96, \n",
    "    n_flows=6, \n",
    "    n_group=24, \n",
    "    n_early_every=3,\n",
    "    n_early_size=8,\n",
    "    n_layers=2,\n",
    "    dilation_list=[1,2],\n",
    "    n_channels=96,\n",
    "    kernel_size=3);"
   ]
  },
  {
   "cell_type": "code",
   "execution_count": 31,
   "metadata": {},
   "outputs": [
    {
     "data": {
      "text/plain": [
       "(70080,)"
      ]
     },
     "execution_count": 31,
     "metadata": {},
     "output_type": "execute_result"
    }
   ],
   "source": [
    "trainset.shape"
   ]
  },
  {
   "cell_type": "code",
   "execution_count": 81,
   "metadata": {},
   "outputs": [
    {
     "name": "stdout",
     "output_type": "stream",
     "text": [
      "(1, 96)\n",
      "(1, 96, 1)\n"
     ]
    },
    {
     "data": {
      "text/plain": [
       "torch.Size([1, 4, 24])"
      ]
     },
     "execution_count": 81,
     "metadata": {},
     "output_type": "execute_result"
    }
   ],
   "source": [
    "samp = trainset[:96]\n",
    "samp = np.reshape(samp, (1,96))\n",
    "print(samp.shape)\n",
    "\n",
    "samp_torch = torch.autograd.Variable(torch.FloatTensor(samp))\n",
    "\n",
    "context = samp[:, :, None]\n",
    "print(context.shape)\n",
    "context_torch = torch.autograd.Variable(torch.FloatTensor(context))\n",
    "\n",
    "samp_torch.unfold(1, 24, 24).shape"
   ]
  },
  {
   "cell_type": "code",
   "execution_count": 107,
   "metadata": {},
   "outputs": [
    {
     "data": {
      "text/plain": [
       "(1, 96, 1)"
      ]
     },
     "execution_count": 107,
     "metadata": {},
     "output_type": "execute_result"
    }
   ],
   "source": [
    "context.shape"
   ]
  },
  {
   "cell_type": "code",
   "execution_count": 192,
   "metadata": {
    "scrolled": true
   },
   "outputs": [],
   "source": [
    "z, log_s_list, log_det_w_list, early_out_shapes = net(samp_torch, context_torch)"
   ]
  },
  {
   "cell_type": "code",
   "execution_count": 189,
   "metadata": {},
   "outputs": [
    {
     "data": {
      "text/plain": [
       "torch.Size([1, 24, 4])"
      ]
     },
     "execution_count": 189,
     "metadata": {},
     "output_type": "execute_result"
    }
   ],
   "source": [
    "z.shape"
   ]
  },
  {
   "cell_type": "code",
   "execution_count": 193,
   "metadata": {},
   "outputs": [],
   "source": [
    "forecast = net.generate(context_torch, latent_z=z, early_assignment_shapes=early_out_shapes)"
   ]
  },
  {
   "cell_type": "code",
   "execution_count": 202,
   "metadata": {},
   "outputs": [
    {
     "data": {
      "text/plain": [
       "tensor([[ 0.0760,  0.0600,  0.0600,  0.0640,  0.0620,  0.0530,  0.0670,  0.1120,\n",
       "          0.3530,  0.5690,  0.7650,  0.8170,  0.7950,  1.0850,  1.1670,  1.4590,\n",
       "          1.5330,  1.4970,  1.6760,  1.8240,  2.0530,  2.7030,  3.1530,  4.1340,\n",
       "          4.6270,  5.7560,  6.8790,  8.1850,  8.8390,  9.0900, 11.5000, 13.3160,\n",
       "         14.6710, 15.1870, 15.5030, 15.4410, 15.5680, 15.8660, 15.9200, 15.9150,\n",
       "         15.9010, 15.8920, 15.9310, 15.9300, 15.9590, 15.9880, 15.9780, 15.9920,\n",
       "         15.9940, 15.9940, 15.9950, 15.9920, 15.9940, 15.9970, 15.9930, 15.9940,\n",
       "         15.9900, 15.9530, 15.9420, 15.4970, 13.5840, 10.8160,  8.6550,  4.9210,\n",
       "          2.5130,  1.7040,  1.6020,  1.5680,  1.2830,  1.0180,  0.9310,  1.4980,\n",
       "          1.5950,  1.4840,  1.4300,  1.4200,  1.0690,  0.8060,  0.7370,  0.5880,\n",
       "          0.3710,  0.1410,  0.0590,  0.0880,  0.2560,  0.3530,  0.2980,  0.3040,\n",
       "          0.4070,  0.5120,  0.4870,  0.6190,  0.6440,  0.8720,  1.4810,  1.6690]])"
      ]
     },
     "execution_count": 202,
     "metadata": {},
     "output_type": "execute_result"
    }
   ],
   "source": [
    "forecast"
   ]
  },
  {
   "cell_type": "code",
   "execution_count": 203,
   "metadata": {},
   "outputs": [
    {
     "data": {
      "text/plain": [
       "tensor([[ 0.0760,  0.0600,  0.0600,  0.0640,  0.0620,  0.0530,  0.0670,  0.1120,\n",
       "          0.3530,  0.5690,  0.7650,  0.8170,  0.7950,  1.0850,  1.1670,  1.4590,\n",
       "          1.5330,  1.4970,  1.6760,  1.8240,  2.0530,  2.7030,  3.1530,  4.1340,\n",
       "          4.6270,  5.7560,  6.8790,  8.1850,  8.8390,  9.0900, 11.5000, 13.3160,\n",
       "         14.6710, 15.1870, 15.5030, 15.4410, 15.5680, 15.8660, 15.9200, 15.9150,\n",
       "         15.9010, 15.8920, 15.9310, 15.9300, 15.9590, 15.9880, 15.9780, 15.9920,\n",
       "         15.9940, 15.9940, 15.9950, 15.9920, 15.9940, 15.9970, 15.9930, 15.9940,\n",
       "         15.9900, 15.9530, 15.9420, 15.4970, 13.5840, 10.8160,  8.6550,  4.9210,\n",
       "          2.5130,  1.7040,  1.6020,  1.5680,  1.2830,  1.0180,  0.9310,  1.4980,\n",
       "          1.5950,  1.4840,  1.4300,  1.4200,  1.0690,  0.8060,  0.7370,  0.5880,\n",
       "          0.3710,  0.1410,  0.0590,  0.0880,  0.2560,  0.3530,  0.2980,  0.3040,\n",
       "          0.4070,  0.5120,  0.4870,  0.6190,  0.6440,  0.8720,  1.4810,  1.6690]])"
      ]
     },
     "execution_count": 203,
     "metadata": {},
     "output_type": "execute_result"
    }
   ],
   "source": [
    "samp_torch"
   ]
  },
  {
   "cell_type": "code",
   "execution_count": 204,
   "metadata": {},
   "outputs": [
    {
     "data": {
      "text/plain": [
       "tensor([[-1.1548e-06, -7.8604e-07,  1.0245e-06,  4.0978e-07,  4.0978e-07,\n",
       "          1.6689e-06, -2.3842e-07,  5.4389e-07,  3.8743e-07,  5.3644e-07,\n",
       "         -5.3644e-07,  7.1526e-07, -3.5763e-07, -4.7684e-07,  0.0000e+00,\n",
       "         -2.9802e-06, -3.5763e-06,  4.7684e-07, -4.7684e-07,  0.0000e+00,\n",
       "          7.1526e-07,  1.4305e-06, -4.7684e-07,  0.0000e+00,  1.4305e-06,\n",
       "         -1.9073e-06, -8.5831e-06, -9.5367e-07,  1.4305e-05,  1.6212e-05,\n",
       "         -1.2398e-05,  1.4305e-05,  1.5259e-05,  5.7220e-06,  4.7684e-06,\n",
       "          1.9073e-06, -2.8610e-06, -4.7684e-06,  7.6294e-06, -1.1444e-05,\n",
       "         -8.5831e-06,  9.5367e-06, -7.6294e-06, -9.5367e-07,  2.2888e-05,\n",
       "          5.7220e-06,  1.9073e-06,  8.5831e-06, -9.5367e-07, -9.5367e-07,\n",
       "         -7.6294e-06, -4.7684e-06,  3.8147e-06,  8.5831e-06, -1.2398e-05,\n",
       "          6.6757e-06,  1.0490e-05,  2.8610e-06, -3.8147e-06, -1.9073e-06,\n",
       "          2.8610e-06,  9.5367e-07,  3.8147e-06, -6.6757e-06, -9.5367e-07,\n",
       "         -5.9605e-07, -4.1723e-06,  4.8876e-06,  1.7524e-05,  6.3181e-06,\n",
       "          6.2585e-06,  1.5497e-06, -5.9605e-07, -5.9605e-07,  1.1921e-07,\n",
       "          9.5367e-07,  1.1921e-07,  4.1723e-07, -2.9802e-07,  2.9802e-07,\n",
       "          3.2783e-07,  1.7881e-07, -3.8370e-07,  3.4273e-07,  4.7684e-07,\n",
       "         -2.9802e-07,  1.4901e-07, -1.3411e-06, -8.6427e-07,  5.9605e-08,\n",
       "         -4.4703e-07, -4.7684e-07,  1.2517e-06,  8.3447e-07, -4.7684e-07,\n",
       "         -1.1921e-07]])"
      ]
     },
     "execution_count": 204,
     "metadata": {},
     "output_type": "execute_result"
    }
   ],
   "source": [
    "forecast - samp_torch"
   ]
  },
  {
   "cell_type": "code",
   "execution_count": 205,
   "metadata": {},
   "outputs": [
    {
     "data": {
      "text/plain": [
       "True"
      ]
     },
     "execution_count": 205,
     "metadata": {},
     "output_type": "execute_result"
    }
   ],
   "source": [
    "torch.allclose(forecast, samp_torch, atol=1e-5)"
   ]
  }
 ],
 "metadata": {
  "kernelspec": {
   "display_name": "Python 3",
   "language": "python",
   "name": "python3"
  },
  "language_info": {
   "codemirror_mode": {
    "name": "ipython",
    "version": 3
   },
   "file_extension": ".py",
   "mimetype": "text/x-python",
   "name": "python",
   "nbconvert_exporter": "python",
   "pygments_lexer": "ipython3",
   "version": "3.7.3"
  }
 },
 "nbformat": 4,
 "nbformat_minor": 2
}
