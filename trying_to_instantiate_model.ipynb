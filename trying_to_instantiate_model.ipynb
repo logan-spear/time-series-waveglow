{
 "cells": [
  {
   "cell_type": "code",
   "execution_count": 38,
   "metadata": {},
   "outputs": [
    {
     "data": {
      "text/html": [
       "<style>.container { width:95% !important; }</style>"
      ],
      "text/plain": [
       "<IPython.core.display.HTML object>"
      ]
     },
     "metadata": {},
     "output_type": "display_data"
    }
   ],
   "source": [
    "# Make the cells wider in the browser window\n",
    "from IPython.core.display import display, HTML\n",
    "display(HTML(\"<style>.container { width:95% !important; }</style>\"))\n",
    "\n",
    "from importlib import reload\n",
    "import torch\n",
    "from torch.autograd import Variable\n",
    "import torch.nn.functional as F\n",
    "import waveglow_model as model\n",
    "import pandas as pd\n",
    "import numpy as np"
   ]
  },
  {
   "cell_type": "code",
   "execution_count": 12,
   "metadata": {},
   "outputs": [],
   "source": [
    "# Import the data\n",
    "trainset = pd.read_pickle(\"wind_power_data/wind_power_train.pickle\").values\n",
    "testset = pd.read_pickle(\"wind_power_data/wind_power_test.pickle\").values"
   ]
  },
  {
   "cell_type": "code",
   "execution_count": 113,
   "metadata": {},
   "outputs": [
    {
     "name": "stdout",
     "output_type": "stream",
     "text": [
      "Channels:  24\n",
      "Channels:  24\n",
      "Channels:  24\n",
      "Channels:  16\n",
      "Channels:  16\n",
      "Channels:  16\n"
     ]
    }
   ],
   "source": [
    "# Try instantiating a network\n",
    "reload(model)\n",
    "net = model.WaveGlow(\n",
    "    n_context_channels=96, \n",
    "    n_flows=6, \n",
    "    n_group=24, \n",
    "    n_early_every=3,\n",
    "    n_early_size=8,\n",
    "    n_layers=2,\n",
    "    dilation_list=[1,2],\n",
    "    n_channels=96,\n",
    "    kernel_size=3);"
   ]
  },
  {
   "cell_type": "code",
   "execution_count": 31,
   "metadata": {},
   "outputs": [
    {
     "data": {
      "text/plain": [
       "(70080,)"
      ]
     },
     "execution_count": 31,
     "metadata": {},
     "output_type": "execute_result"
    }
   ],
   "source": [
    "trainset.shape"
   ]
  },
  {
   "cell_type": "code",
   "execution_count": 81,
   "metadata": {},
   "outputs": [
    {
     "name": "stdout",
     "output_type": "stream",
     "text": [
      "(1, 96)\n",
      "(1, 96, 1)\n"
     ]
    },
    {
     "data": {
      "text/plain": [
       "torch.Size([1, 4, 24])"
      ]
     },
     "execution_count": 81,
     "metadata": {},
     "output_type": "execute_result"
    }
   ],
   "source": [
    "samp = trainset[:96]\n",
    "samp = np.reshape(samp, (1,96))\n",
    "print(samp.shape)\n",
    "\n",
    "samp_torch = torch.autograd.Variable(torch.FloatTensor(samp))\n",
    "\n",
    "context = samp[:, :, None]\n",
    "print(context.shape)\n",
    "context_torch = torch.autograd.Variable(torch.FloatTensor(context))\n",
    "\n",
    "samp_torch.unfold(1, 24, 24).shape"
   ]
  },
  {
   "cell_type": "code",
   "execution_count": 107,
   "metadata": {},
   "outputs": [
    {
     "data": {
      "text/plain": [
       "(1, 96, 1)"
      ]
     },
     "execution_count": 107,
     "metadata": {},
     "output_type": "execute_result"
    }
   ],
   "source": [
    "context.shape"
   ]
  },
  {
   "cell_type": "code",
   "execution_count": 96,
   "metadata": {},
   "outputs": [
    {
     "name": "stdout",
     "output_type": "stream",
     "text": [
      "Shape of forecast in forward:  torch.Size([1, 24, 4])\n",
      "Shape of forecast in forward:  torch.Size([1, 24, 4])\n",
      "Shape of forecast in forward:  torch.Size([1, 24, 4])\n",
      "Shape of forecast in forward:  torch.Size([1, 16, 4])\n",
      "Shape of forecast in forward:  torch.Size([1, 16, 4])\n",
      "Shape of forecast in forward:  torch.Size([1, 16, 4])\n"
     ]
    }
   ],
   "source": [
    "z, log_s_list, log_det_w_list = net(samp_torch, context_torch)"
   ]
  },
  {
   "cell_type": "code",
   "execution_count": 114,
   "metadata": {},
   "outputs": [],
   "source": [
    "forecast = net.generate(context_torch)"
   ]
  },
  {
   "cell_type": "code",
   "execution_count": 115,
   "metadata": {},
   "outputs": [
    {
     "data": {
      "text/plain": [
       "tensor([[ 0.6416,  1.9177,  0.3096, -0.5133, -0.3624, -0.7826, -1.4356,  0.8191,\n",
       "         -0.1313,  1.1348,  0.1126,  1.0474,  0.6207,  0.2893, -0.9675, -0.6394,\n",
       "         -0.1874,  2.2803,  0.2243,  0.5410,  0.2802,  1.3005,  0.1278, -1.5507,\n",
       "         -0.8102,  0.0481, -1.8839,  0.1476,  0.7882, -0.8611, -0.2911,  0.9021,\n",
       "          1.1888,  0.1791,  0.7324,  1.2893, -0.6629, -0.5493,  0.8613, -0.5830,\n",
       "          1.9938, -1.4890, -0.0932, -4.0513, -0.3041,  1.6806, -0.1150,  0.3649,\n",
       "         -0.2790,  1.0862,  1.3792, -0.3671, -1.5363,  0.0964,  0.5705, -0.2184,\n",
       "         -0.5667,  2.3313,  0.2036, -0.1546, -0.1818,  0.5711, -0.0973,  0.4544,\n",
       "         -0.3085, -1.0320,  0.5853,  1.6792,  0.2352,  0.2435, -0.0794, -0.9220,\n",
       "         -1.5282, -1.0132,  0.0048, -0.0763, -1.0342,  0.3176, -0.2409, -0.4223,\n",
       "         -0.0064,  0.3122, -0.7378,  1.2377, -0.1065,  1.0132, -1.9516,  0.1594,\n",
       "          0.8732, -2.2664, -0.4403,  2.0430,  0.5147, -0.9742, -1.4355,  1.4459]])"
      ]
     },
     "execution_count": 115,
     "metadata": {},
     "output_type": "execute_result"
    }
   ],
   "source": [
    "forecast"
   ]
  }
 ],
 "metadata": {
  "kernelspec": {
   "display_name": "Python 3",
   "language": "python",
   "name": "python3"
  },
  "language_info": {
   "codemirror_mode": {
    "name": "ipython",
    "version": 3
   },
   "file_extension": ".py",
   "mimetype": "text/x-python",
   "name": "python",
   "nbconvert_exporter": "python",
   "pygments_lexer": "ipython3",
   "version": "3.7.3"
  }
 },
 "nbformat": 4,
 "nbformat_minor": 2
}
